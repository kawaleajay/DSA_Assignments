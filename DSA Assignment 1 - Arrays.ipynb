{
 "cells": [
  {
   "cell_type": "markdown",
   "id": "5a3d6f07",
   "metadata": {},
   "source": [
    "\n",
    "💡 **Q1.** Given an array of integers nums and an integer target, return indices of the two numbers such that they add up to target.\n",
    "\n",
    "You may assume that each input would have exactly one solution, and you may not use the same element twice.\n",
    "\n",
    "You can return the answer in any order.\n",
    "\n",
    "**Example:**\n",
    "Input: nums = [2,7,11,15], target = 9\n",
    "Output0 [0,1]\n",
    "\n",
    "**Explanation:** Because nums[0] + nums[1] == 9, we return [0, 1][\n"
   ]
  },
  {
   "cell_type": "code",
   "execution_count": 1,
   "id": "001f5836",
   "metadata": {},
   "outputs": [],
   "source": [
    "class Solution:\n",
    "    def twoSum(self,nums,target):\n",
    "        nums_copy=nums\n",
    "        nums=sorted(nums)\n",
    "        res=[]\n",
    "        l=0\n",
    "        h=len(nums)-1\n",
    "        while l < h:\n",
    "            sum=nums[l]+nums[h]\n",
    "            if sum>target:\n",
    "                h-=1\n",
    "            elif sum<target:\n",
    "                l+=1\n",
    "            else:\n",
    "                res.append([nums_copy.index(nums[l]),nums_copy.index(nums[h])])\n",
    "                \n",
    "                h-=1\n",
    "                l+=1\n",
    "        return res\n",
    "    "
   ]
  },
  {
   "cell_type": "code",
   "execution_count": 2,
   "id": "b4d73ba7",
   "metadata": {},
   "outputs": [],
   "source": [
    "s=Solution()"
   ]
  },
  {
   "cell_type": "code",
   "execution_count": 3,
   "id": "60c4b887",
   "metadata": {},
   "outputs": [
    {
     "data": {
      "text/plain": [
       "[[0, 1], [4, 5]]"
      ]
     },
     "execution_count": 3,
     "metadata": {},
     "output_type": "execute_result"
    }
   ],
   "source": [
    "s.twoSum([2,7,11,15,3,6],9)"
   ]
  },
  {
   "cell_type": "markdown",
   "id": "91312d13",
   "metadata": {},
   "source": [
    "<aside>\n",
    "💡 **Q2.** Given an integer array nums and an integer val, remove all occurrences of val in nums in-place. The order of the elements may be changed. Then return the number of elements in nums which are not equal to val.\n",
    "\n",
    "Consider the number of elements in nums which are not equal to val be k, to get accepted, you need to do the following things:\n",
    "\n",
    "- Change the array nums such that the first k elements of nums contain the elements which are not equal to val. The remaining elements of nums are not important as well as the size of nums.\n",
    "- Return k.\n",
    "\n",
    "**Example :**\n",
    "Input: nums = [3,2,2,3], val = 3\n",
    "Output: 2, nums = [2,2,_*,_*]\n",
    "\n",
    "**Explanation:** Your function should return k = 2, with the first two elements of nums being 2. It does not matter what you leave beyond the returned k (hence they are underscores)[\n"
   ]
  },
  {
   "cell_type": "code",
   "execution_count": 5,
   "id": "1c5aaf6d",
   "metadata": {},
   "outputs": [],
   "source": [
    "class Solution:\n",
    "    def remove_val ( self, nums , val):\n",
    "        for i in nums:\n",
    "            if i==val:\n",
    "                nums.remove(i)\n",
    "        return nums"
   ]
  },
  {
   "cell_type": "code",
   "execution_count": 6,
   "id": "0286598f",
   "metadata": {},
   "outputs": [],
   "source": [
    "s=Solution()"
   ]
  },
  {
   "cell_type": "code",
   "execution_count": 7,
   "id": "a54ee761",
   "metadata": {},
   "outputs": [
    {
     "data": {
      "text/plain": [
       "[2, 2]"
      ]
     },
     "execution_count": 7,
     "metadata": {},
     "output_type": "execute_result"
    }
   ],
   "source": [
    "s.remove_val([3,2,2,3],3)"
   ]
  },
  {
   "cell_type": "code",
   "execution_count": 8,
   "id": "d7d2458b",
   "metadata": {},
   "outputs": [],
   "source": [
    "class Solution:\n",
    "    def removeElement(self, nums, val):\n",
    "        r=len(nums)\n",
    "        l=0\n",
    "        \n",
    "        while l<r:\n",
    "            if nums[l]==val:\n",
    "                nums[l]=nums[r-1]\n",
    "                r-=1\n",
    "            else:\n",
    "                l+=1\n",
    "        return nums[:r]"
   ]
  },
  {
   "cell_type": "code",
   "execution_count": 9,
   "id": "6622904e",
   "metadata": {},
   "outputs": [],
   "source": [
    "s=Solution()"
   ]
  },
  {
   "cell_type": "code",
   "execution_count": 10,
   "id": "f56290cd",
   "metadata": {},
   "outputs": [
    {
     "data": {
      "text/plain": [
       "[2, 2]"
      ]
     },
     "execution_count": 10,
     "metadata": {},
     "output_type": "execute_result"
    }
   ],
   "source": [
    "nums = [3, 2, 2, 3]\n",
    "val = 3\n",
    "s.removeElement(nums, val)"
   ]
  },
  {
   "cell_type": "markdown",
   "id": "37920ac4",
   "metadata": {},
   "source": [
    "\n",
    "💡 **Q3.** Given a sorted array of distinct integers and a target value, return the index if the target is found. If not, return the index where it would be if it were inserted in order.\n",
    "\n",
    "You must write an algorithm with O(log n) runtime complexity.\n",
    "\n",
    "**Example 1:**\n",
    "Input: nums = [1,3,5,6], target = 5\n",
    "\n",
    "Output: 2\n"
   ]
  },
  {
   "cell_type": "code",
   "execution_count": 11,
   "id": "befe71d6",
   "metadata": {},
   "outputs": [],
   "source": [
    "class Solution:\n",
    "    def findIndex(self,nums,target):\n",
    "        l=0\n",
    "        h=len(nums)-1\n",
    "        while l <h:\n",
    "            m=l+h//2\n",
    "            if nums[m]==target:\n",
    "                return m\n",
    "            elif nums[m] < target:\n",
    "                l=m+1\n",
    "            elif nums[m] > target:\n",
    "                h=m-1\n",
    "        else:\n",
    "            return l"
   ]
  },
  {
   "cell_type": "code",
   "execution_count": 14,
   "id": "5eebe112",
   "metadata": {},
   "outputs": [],
   "source": [
    "s=Solution()"
   ]
  },
  {
   "cell_type": "code",
   "execution_count": 15,
   "id": "edd85583",
   "metadata": {},
   "outputs": [
    {
     "data": {
      "text/plain": [
       "4"
      ]
     },
     "execution_count": 15,
     "metadata": {},
     "output_type": "execute_result"
    }
   ],
   "source": [
    "s.findIndex([1,3,5,6],7)"
   ]
  },
  {
   "cell_type": "markdown",
   "id": "5dfc0642",
   "metadata": {},
   "source": [
    "\n",
    "💡 **Q4.** You are given a large integer represented as an integer array digits, where each digits[i] is the ith digit of the integer. The digits are ordered from most significant to least significant in left-to-right order. The large integer does not contain any leading 0's.\n",
    "\n",
    "Increment the large integer by one and return the resulting array of digits.\n",
    "\n",
    "**Example 1:**\n",
    "Input: digits = [1,2,3]\n",
    "Output: [1,2,4]\n",
    "\n",
    "**Explanation:** The array represents the integer 123.\n",
    "\n",
    "Incrementing by one gives 123 + 1 = 124.\n",
    "Thus, the result should be [1,2,4].\n"
   ]
  },
  {
   "cell_type": "code",
   "execution_count": 17,
   "id": "3513fc5d",
   "metadata": {},
   "outputs": [],
   "source": [
    "class Solution:\n",
    "    def AddOne(self, nums):\n",
    "        n=len(nums)-1\n",
    "        for i in range ( n,-1,-1):\n",
    "            \n",
    "            if (nums[i]<9):\n",
    "                nums[i]+=1\n",
    "                return nums\n",
    "            else:\n",
    "                nums[i]=0\n",
    "        return [1]+nums\n",
    "            "
   ]
  },
  {
   "cell_type": "code",
   "execution_count": 18,
   "id": "1ec48ab9",
   "metadata": {},
   "outputs": [],
   "source": [
    "s=Solution()"
   ]
  },
  {
   "cell_type": "code",
   "execution_count": 19,
   "id": "1793ba55",
   "metadata": {},
   "outputs": [
    {
     "data": {
      "text/plain": [
       "[1, 0, 0, 0]"
      ]
     },
     "execution_count": 19,
     "metadata": {},
     "output_type": "execute_result"
    }
   ],
   "source": [
    "s.AddOne([9,9,9])"
   ]
  },
  {
   "cell_type": "markdown",
   "id": "44fcd43a",
   "metadata": {},
   "source": [
    "\n",
    "💡 **Q5.** You are given two integer arrays nums1 and nums2, sorted in non-decreasing order, and two integers m and n, representing the number of elements in nums1 and nums2 respectively.\n",
    "\n",
    "Merge nums1 and nums2 into a single array sorted in non-decreasing order.\n",
    "\n",
    "The final sorted array should not be returned by the function, but instead be stored inside the array nums1. To accommodate this, nums1 has a length of m + n, where the first m elements denote the elements that should be merged, and the last n elements are set to 0 and should be ignored. nums2 has a length of n.\n",
    "\n",
    "**Example 1:**\n",
    "Input: nums1 = [1,2,3,0,0,0], m = 3, nums2 = [2,5,6], n = 3\n",
    "Output: [1,2,2,3,5,6]\n",
    "\n",
    "**Explanation:** The arrays we are merging are [1,2,3] and [2,5,6].\n",
    "The result of the merge is [1,2,2,3,5,6] with the underlined elements coming from nums1."
   ]
  },
  {
   "cell_type": "code",
   "execution_count": 1,
   "id": "28e405c8",
   "metadata": {},
   "outputs": [],
   "source": [
    "class Solution:\n",
    "    def MergeNums (self,nums1,m,nums2,n):\n",
    "        \n",
    "        p1=m-1\n",
    "        p2=n-1\n",
    "        p=m+n-1\n",
    "        while p1>=0 and p2>=0:\n",
    "                if(nums1[p1]>=nums2[p2]):\n",
    "                    nums1[p] = nums1[p1]\n",
    "                    p1-=1\n",
    "                else:\n",
    "                    nums1[p]=nums2[p2]\n",
    "                    p2-=1\n",
    "                p-=1\n",
    "        \n",
    "        nums1[:p2 + 1] = nums2[:p2 + 1]\n",
    "        return nums1"
   ]
  },
  {
   "cell_type": "code",
   "execution_count": 2,
   "id": "1ed12598",
   "metadata": {},
   "outputs": [],
   "source": [
    "nums1 = [1, 2, 10, 0, 0, 0,0,0]\n",
    "m = 3\n",
    "nums2 = [0,3, 5, 6,9]\n",
    "n = 5"
   ]
  },
  {
   "cell_type": "code",
   "execution_count": 3,
   "id": "5d398a9c",
   "metadata": {},
   "outputs": [],
   "source": [
    "s=Solution()"
   ]
  },
  {
   "cell_type": "code",
   "execution_count": 4,
   "id": "eb1ca14a",
   "metadata": {},
   "outputs": [
    {
     "data": {
      "text/plain": [
       "[0, 1, 2, 3, 5, 6, 9, 10]"
      ]
     },
     "execution_count": 4,
     "metadata": {},
     "output_type": "execute_result"
    }
   ],
   "source": [
    "s.MergeNums(nums1, m, nums2, n)"
   ]
  },
  {
   "cell_type": "markdown",
   "id": "88ea1379",
   "metadata": {},
   "source": [
    "\n",
    "💡 **Q6.** Given an integer array nums, return true if any value appears at least twice in the array, and return false if every element is distinct.\n",
    "\n",
    "**Example 1:**\n",
    "Input: nums = [1,2,3,1]\n",
    "\n",
    "Output: true"
   ]
  },
  {
   "cell_type": "code",
   "execution_count": 5,
   "id": "cae09405",
   "metadata": {},
   "outputs": [],
   "source": [
    "def Duplicates(nums):\n",
    "    seen=set()\n",
    "    for num in nums:\n",
    "        if num in seen:\n",
    "            return True\n",
    "        seen.add(num)\n",
    "    return False"
   ]
  },
  {
   "cell_type": "code",
   "execution_count": 6,
   "id": "6bf00e86",
   "metadata": {},
   "outputs": [
    {
     "data": {
      "text/plain": [
       "True"
      ]
     },
     "execution_count": 6,
     "metadata": {},
     "output_type": "execute_result"
    }
   ],
   "source": [
    "Duplicates([1,2,3,1])"
   ]
  },
  {
   "cell_type": "code",
   "execution_count": 7,
   "id": "1961f80b",
   "metadata": {},
   "outputs": [
    {
     "data": {
      "text/plain": [
       "False"
      ]
     },
     "execution_count": 7,
     "metadata": {},
     "output_type": "execute_result"
    }
   ],
   "source": [
    "Duplicates([1,2,3])"
   ]
  },
  {
   "cell_type": "markdown",
   "id": "1b52ab40",
   "metadata": {},
   "source": [
    "\n",
    "💡 **Q7.** Given an integer array nums, move all 0's to the end of it while maintaining the relative order of the nonzero elements.\n",
    "\n",
    "Note that you must do this in-place without making a copy of the array.\n",
    "\n",
    "**Example 1:**\n",
    "Input: nums = [0,1,0,3,12]\n",
    "Output: [1,3,12,0,0]"
   ]
  },
  {
   "cell_type": "code",
   "execution_count": 8,
   "id": "1d1adf40",
   "metadata": {},
   "outputs": [],
   "source": [
    "def moveZeroes(nums):\n",
    "    l=0\n",
    "    for i in range(len(nums)):\n",
    "        if nums[i] !=0:\n",
    "            nums[i],nums[l]=nums[l],nums[i]\n",
    "            l+=1\n",
    "    return nums"
   ]
  },
  {
   "cell_type": "code",
   "execution_count": 9,
   "id": "be1fd8e7",
   "metadata": {},
   "outputs": [
    {
     "data": {
      "text/plain": [
       "[1, 3, 12, 0, 0]"
      ]
     },
     "execution_count": 9,
     "metadata": {},
     "output_type": "execute_result"
    }
   ],
   "source": [
    "nums = [0, 1, 0, 3, 12]\n",
    "moveZeroes(nums)"
   ]
  },
  {
   "cell_type": "markdown",
   "id": "5d6b553e",
   "metadata": {},
   "source": [
    "\n",
    "💡 **Q8.** You have a set of integers s, which originally contains all the numbers from 1 to n. Unfortunately, due to some error, one of the numbers in s got duplicated to another number in the set, which results in repetition of one number and loss of another number.\n",
    "\n",
    "You are given an integer array nums representing the data status of this set after the error.\n",
    "\n",
    "Find the number that occurs twice and the number that is missing and return them in the form of an array.\n",
    "\n",
    "**Example 1:**\n",
    "Input: nums = [1,2,2,4]\n",
    "Output: [2,3]"
   ]
  },
  {
   "cell_type": "code",
   "execution_count": 10,
   "id": "b628cd84",
   "metadata": {},
   "outputs": [],
   "source": [
    "def DuplicatesMissing(nums):\n",
    "    seen=set()\n",
    "    l=len(nums)\n",
    "    res=[]\n",
    "    for num in nums:\n",
    "        if num in seen:\n",
    "            res.append(num)\n",
    "        seen.add(num)\n",
    "    for i in range(1,l+1):\n",
    "        if i not in seen:\n",
    "            res.append(i)\n",
    "    return res"
   ]
  },
  {
   "cell_type": "code",
   "execution_count": 11,
   "id": "d5979932",
   "metadata": {},
   "outputs": [],
   "source": [
    "nums = [1,2,2,4]"
   ]
  },
  {
   "cell_type": "code",
   "execution_count": 12,
   "id": "a46fea1c",
   "metadata": {},
   "outputs": [
    {
     "data": {
      "text/plain": [
       "[2, 3]"
      ]
     },
     "execution_count": 12,
     "metadata": {},
     "output_type": "execute_result"
    }
   ],
   "source": [
    "DuplicatesMissing(nums)"
   ]
  }
 ],
 "metadata": {
  "kernelspec": {
   "display_name": "Python 3 (ipykernel)",
   "language": "python",
   "name": "python3"
  },
  "language_info": {
   "codemirror_mode": {
    "name": "ipython",
    "version": 3
   },
   "file_extension": ".py",
   "mimetype": "text/x-python",
   "name": "python",
   "nbconvert_exporter": "python",
   "pygments_lexer": "ipython3",
   "version": "3.9.12"
  }
 },
 "nbformat": 4,
 "nbformat_minor": 5
}
