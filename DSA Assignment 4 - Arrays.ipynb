{
 "cells": [
  {
   "cell_type": "markdown",
   "id": "840190b5",
   "metadata": {},
   "source": [
    "\n",
    "💡 **Question 1**\n",
    "Given three integer arrays arr1, arr2 and arr3 **sorted** in **strictly increasing** order, return a sorted array of **only** the integers that appeared in **all** three arrays.\n",
    "\n",
    "**Example 1:**\n",
    "\n",
    "Input: arr1 = [1,2,3,4,5], arr2 = [1,2,5,7,9], arr3 = [1,3,4,5,8]\n",
    "\n",
    "Output: [1,5]\n",
    "\n",
    "**Explanation:** Only 1 and 5 appeared in the three arrays.\n"
   ]
  },
  {
   "cell_type": "code",
   "execution_count": 1,
   "id": "f291b9fa",
   "metadata": {},
   "outputs": [],
   "source": [
    "def common(arr1,arr2,arr3):\n",
    "    i=0 \n",
    "    j=0\n",
    "    k=0\n",
    "    res=[]\n",
    "    while i<len(arr1) and j<len(arr2) and k<len(arr3):\n",
    "        \n",
    "        if arr1[i]==arr2[j]==arr3[k]:\n",
    "            res.append(arr1[i])\n",
    "            i+=1\n",
    "            j+=1\n",
    "            k+=1\n",
    "        elif arr1[i] < arr2[j]:\n",
    "            i+=1\n",
    "        elif arr2[j] < arr3[k]:\n",
    "            j+=1\n",
    "        else:\n",
    "            k+=1\n",
    "    return res"
   ]
  },
  {
   "cell_type": "code",
   "execution_count": 2,
   "id": "99f0fa69",
   "metadata": {},
   "outputs": [
    {
     "data": {
      "text/plain": [
       "[1, 5]"
      ]
     },
     "execution_count": 2,
     "metadata": {},
     "output_type": "execute_result"
    }
   ],
   "source": [
    "common( [1,2,3,4,5],[1,2,5,7,9],[1,3,4,5,8])"
   ]
  },
  {
   "cell_type": "markdown",
   "id": "25e51063",
   "metadata": {},
   "source": [
    "\n",
    "💡 **Question 2**\n",
    "\n",
    "Given two **0-indexed** integer arrays nums1 and nums2, return *a list* answer *of size* 2 *where:*\n",
    "\n",
    "- answer[0] *is a list of all **distinct** integers in* nums1 *which are **not** present in* nums2*.*\n",
    "- answer[1] *is a list of all **distinct** integers in* nums2 *which are **not** present in* nums1.\n",
    "\n",
    "**Note** that the integers in the lists may be returned in **any** order.\n",
    "\n",
    "**Example 1:**\n",
    "\n",
    "**Input:** nums1 = [1,2,3], nums2 = [2,4,6]\n",
    "\n",
    "**Output:** [[1,3],[4,6]]\n",
    "\n",
    "**Explanation:**\n",
    "\n",
    "For nums1, nums1[1] = 2 is present at index 0 of nums2, whereas nums1[0] = 1 and nums1[2] = 3 are not present in nums2. Therefore, answer[0] = [1,3].\n",
    "\n",
    "For nums2, nums2[0] = 2 is present at index 1 of nums1, whereas nums2[1] = 4 and nums2[2] = 6 are not present in nums2. Therefore, answer[1] = [4,6].\n"
   ]
  },
  {
   "cell_type": "code",
   "execution_count": 4,
   "id": "ef35044d",
   "metadata": {},
   "outputs": [],
   "source": [
    "def unique(arr1,arr2):\n",
    "    i=0\n",
    "    res=[]\n",
    "   \n",
    "    for i in arr1:\n",
    "        if i in arr2:\n",
    "            arr1.remove(i)\n",
    "            arr2.remove(i)\n",
    "    res.append(arr1)\n",
    "    res.append(arr2)\n",
    "    return res"
   ]
  },
  {
   "cell_type": "code",
   "execution_count": 5,
   "id": "4ac5e43d",
   "metadata": {},
   "outputs": [
    {
     "data": {
      "text/plain": [
       "[[1, 3], [4, 6]]"
      ]
     },
     "execution_count": 5,
     "metadata": {},
     "output_type": "execute_result"
    }
   ],
   "source": [
    "unique( [1,2,3],[2,4,6])"
   ]
  },
  {
   "cell_type": "markdown",
   "id": "bf2fd40a",
   "metadata": {},
   "source": [
    "\n",
    "💡 **Question 3**\n",
    "Given a 2D integer array matrix, return *the **transpose** of* matrix.\n",
    "\n",
    "The **transpose** of a matrix is the matrix flipped over its main diagonal, switching the matrix's row and column indices.\n",
    "\n",
    "**Example 1:**\n",
    "\n",
    "Input: matrix = [[1,2,3],[4,5,6],[7,8,9]]\n",
    "\n",
    "Output: [[1,4,7],[2,5,8],[3,6,9]]\n"
   ]
  },
  {
   "cell_type": "code",
   "execution_count": 6,
   "id": "591a58bb",
   "metadata": {},
   "outputs": [],
   "source": [
    "def transpose(nums):\n",
    "    m=len(nums)\n",
    "    n=len(nums[0])\n",
    "    \n",
    "    transposed = [[0 for _ in range(m)] for _ in range(n)]\n",
    "   \n",
    "    for i in range (m):\n",
    "        for j in range (n):\n",
    "            transposed[j][i]=nums[i][j]\n",
    "        \n",
    "    return transposed"
   ]
  },
  {
   "cell_type": "code",
   "execution_count": 7,
   "id": "bace4c93",
   "metadata": {},
   "outputs": [
    {
     "data": {
      "text/plain": [
       "[[1, 4, 7], [2, 5, 8], [3, 6, 9]]"
      ]
     },
     "execution_count": 7,
     "metadata": {},
     "output_type": "execute_result"
    }
   ],
   "source": [
    "transpose([[1,2,3],[4,5,6],[7,8,9]])"
   ]
  },
  {
   "cell_type": "markdown",
   "id": "ff4b8109",
   "metadata": {},
   "source": [
    "\n",
    "💡 **Question 4**\n",
    "Given an integer array nums of 2n integers, group these integers into n pairs (a1, b1), (a2, b2), ..., (an, bn) such that the sum of min(ai, bi) for all i is **maximized**. Return *the maximized sum*.\n",
    "\n",
    "**Example 1:**\n",
    "\n",
    "Input: nums = [1,4,3,2]\n",
    "\n",
    "Output: 4\n",
    "\n",
    "**Explanation:** All possible pairings (ignoring the ordering of elements) are:\n",
    "\n",
    "1. (1, 4), (2, 3) -> min(1, 4) + min(2, 3) = 1 + 2 = 3\n",
    "\n",
    "2. (1, 3), (2, 4) -> min(1, 3) + min(2, 4) = 1 + 2 = 3\n",
    "\n",
    "3. (1, 2), (3, 4) -> min(1, 2) + min(3, 4) = 1 + 3 = 4\n",
    "\n",
    "So the maximum possible sum is 4.\n",
    "\n"
   ]
  },
  {
   "cell_type": "code",
   "execution_count": 8,
   "id": "f1025c63",
   "metadata": {},
   "outputs": [],
   "source": [
    "def Max(nums):\n",
    "    nums.sort()\n",
    "    max=0\n",
    "    for i in range (0,len(nums),2):\n",
    "        max+=nums[i]\n",
    "    return max"
   ]
  },
  {
   "cell_type": "code",
   "execution_count": 9,
   "id": "e710280f",
   "metadata": {},
   "outputs": [
    {
     "data": {
      "text/plain": [
       "4"
      ]
     },
     "execution_count": 9,
     "metadata": {},
     "output_type": "execute_result"
    }
   ],
   "source": [
    "Max([1,4,3,2])"
   ]
  },
  {
   "cell_type": "markdown",
   "id": "75a08aa1",
   "metadata": {},
   "source": [
    "\n",
    "💡 **Question 5**\n",
    "You have n coins and you want to build a staircase with these coins. The staircase consists of k rows where the ith row has exactly i coins. The last row of the staircase **may be** incomplete.\n",
    "\n",
    "Given the integer n, return *the number of **complete rows** of the staircase you will build*.\n",
    "\n"
   ]
  },
  {
   "cell_type": "code",
   "execution_count": 10,
   "id": "436e3b19",
   "metadata": {},
   "outputs": [],
   "source": [
    "def staircase(n):\n",
    "    count=0\n",
    "    remaining=n\n",
    "    while remaining >= count+1:\n",
    "        count+=1\n",
    "        remaining-=count\n",
    "    return count"
   ]
  },
  {
   "cell_type": "code",
   "execution_count": 11,
   "id": "557bd18c",
   "metadata": {},
   "outputs": [
    {
     "data": {
      "text/plain": [
       "2"
      ]
     },
     "execution_count": 11,
     "metadata": {},
     "output_type": "execute_result"
    }
   ],
   "source": [
    "staircase(5)"
   ]
  },
  {
   "cell_type": "markdown",
   "id": "1cafd05f",
   "metadata": {},
   "source": [
    "\n",
    "💡 **Question 6**\n",
    "Given an integer array nums sorted in **non-decreasing** order, return *an array of **the squares of each number** sorted in non-decreasing order*.\n",
    "\n",
    "**Example 1:**\n",
    "\n",
    "Input: nums = [-4,-1,0,3,10]\n",
    "\n",
    "Output: [0,1,9,16,100]\n",
    "\n",
    "**Explanation:** After squaring, the array becomes [16,1,0,9,100].\n",
    "After sorting, it becomes [0,1,9,16,100]\n"
   ]
  },
  {
   "cell_type": "code",
   "execution_count": 12,
   "id": "887fb54d",
   "metadata": {},
   "outputs": [],
   "source": [
    "def squares(nums):\n",
    "    n=len(nums)\n",
    "    res=[0]*n\n",
    "    l=0\n",
    "    r=n-1\n",
    "    index=n-1\n",
    "    while l<=r:\n",
    "        if abs(nums[l])>abs(nums[r]):\n",
    "            res[index]=nums[l]*nums[l]\n",
    "            l+=1\n",
    "        else:\n",
    "            res[index]=nums[r]*nums[r]\n",
    "            r-=1\n",
    "        index-=1\n",
    "    return res"
   ]
  },
  {
   "cell_type": "code",
   "execution_count": 13,
   "id": "1d34fb85",
   "metadata": {},
   "outputs": [],
   "source": [
    "nums = [-4, -1, 0, 3, 10]"
   ]
  },
  {
   "cell_type": "code",
   "execution_count": 14,
   "id": "d9dd30b7",
   "metadata": {},
   "outputs": [
    {
     "data": {
      "text/plain": [
       "[0, 1, 9, 16, 100]"
      ]
     },
     "execution_count": 14,
     "metadata": {},
     "output_type": "execute_result"
    }
   ],
   "source": [
    "squares(nums)"
   ]
  },
  {
   "cell_type": "markdown",
   "id": "8216099e",
   "metadata": {},
   "source": [
    "\n",
    "💡 **Question 7**\n",
    "You are given an m x n matrix M initialized with all 0's and an array of operations ops, where ops[i] = [ai, bi] means M[x][y] should be incremented by one for all 0 <= x < ai and 0 <= y < bi.\n",
    "\n",
    "Count and return *the number of maximum integers in the matrix after performing all the operations*\n",
    "\n"
   ]
  },
  {
   "cell_type": "code",
   "execution_count": 15,
   "id": "556adefb",
   "metadata": {},
   "outputs": [],
   "source": [
    "def maxCount(m,n,ops):\n",
    "    min_row=m\n",
    "    min_col=n\n",
    "    \n",
    "    for i in ops:\n",
    "        min_row = min(min_row,i[0])\n",
    "        min_col=min(min_col , i[1])\n",
    "    return min_row*min_col"
   ]
  },
  {
   "cell_type": "code",
   "execution_count": 16,
   "id": "1812d5c9",
   "metadata": {},
   "outputs": [
    {
     "data": {
      "text/plain": [
       "4"
      ]
     },
     "execution_count": 16,
     "metadata": {},
     "output_type": "execute_result"
    }
   ],
   "source": [
    "maxCount(3,3,[[2, 2], [3, 3]])"
   ]
  },
  {
   "cell_type": "markdown",
   "id": "c16b737d",
   "metadata": {},
   "source": [
    "\n",
    "💡 **Question 8**\n",
    "\n",
    "Given the array nums consisting of 2n elements in the form [x1,x2,...,xn,y1,y2,...,yn].\n",
    "\n",
    "*Return the array in the form* [x1,y1,x2,y2,...,xn,yn].\n",
    "\n",
    "**Example 1:**\n",
    "\n",
    "**Input:** nums = [2,5,1,3,4,7], n = 3\n",
    "\n",
    "**Output:** [2,3,5,4,1,7]\n",
    "\n",
    "**Explanation:** Since x1=2, x2=5, x3=1, y1=3, y2=4, y3=7 then the answer is [2,3,5,4,1,7].\n"
   ]
  },
  {
   "cell_type": "code",
   "execution_count": 17,
   "id": "dfa27df7",
   "metadata": {},
   "outputs": [],
   "source": [
    "def seq(nums):\n",
    "    n=len(nums)\n",
    "    mid=n//2\n",
    "    l=0\n",
    "    res=[]\n",
    "    while l<=n//2 and (mid+1)<=len(nums):\n",
    "        res.append(nums[l])\n",
    "        res.append(nums[mid])\n",
    "        l+=1\n",
    "        mid+=1\n",
    "    return res"
   ]
  },
  {
   "cell_type": "code",
   "execution_count": 18,
   "id": "38c09929",
   "metadata": {},
   "outputs": [
    {
     "data": {
      "text/plain": [
       "[2, 3, 5, 4, 1, 7]"
      ]
     },
     "execution_count": 18,
     "metadata": {},
     "output_type": "execute_result"
    }
   ],
   "source": [
    "seq([2,5,1,3,4,7])"
   ]
  },
  {
   "cell_type": "code",
   "execution_count": null,
   "id": "a2a4afa9",
   "metadata": {},
   "outputs": [],
   "source": []
  }
 ],
 "metadata": {
  "kernelspec": {
   "display_name": "Python 3 (ipykernel)",
   "language": "python",
   "name": "python3"
  },
  "language_info": {
   "codemirror_mode": {
    "name": "ipython",
    "version": 3
   },
   "file_extension": ".py",
   "mimetype": "text/x-python",
   "name": "python",
   "nbconvert_exporter": "python",
   "pygments_lexer": "ipython3",
   "version": "3.9.12"
  }
 },
 "nbformat": 4,
 "nbformat_minor": 5
}
