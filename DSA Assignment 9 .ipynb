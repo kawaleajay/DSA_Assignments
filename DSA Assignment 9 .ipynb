{
 "cells": [
  {
   "cell_type": "markdown",
   "id": "6843275b",
   "metadata": {},
   "source": [
    "\n",
    "💡 **Question 1**\n",
    "\n",
    "Given an integer `n`, return *`true` if it is a power of two. Otherwise, return `false`*.\n",
    "\n",
    "An integer `n` is a power of two, if there exists an integer `x` such that `n == 2x`.\n",
    "\n",
    "**Example 1:**\n",
    "Input: n = 1 \n",
    "\n",
    "Output: true\n",
    "\n",
    "**Example 2:**\n",
    "Input: n = 16 \n",
    "\n",
    "Output: true\n",
    "\n",
    "**Example 3:**\n",
    "Input: n = 3 \n",
    "\n",
    "Output: false\n",
    "\n"
   ]
  },
  {
   "cell_type": "code",
   "execution_count": 1,
   "id": "b9924c1d",
   "metadata": {},
   "outputs": [],
   "source": [
    "def power2(num):\n",
    "    \n",
    "    if(num<=0 or num%2!=0):\n",
    "        return False\n",
    "    if num/2==1:\n",
    "        return True\n",
    "    \n",
    "    return power2(num/2)"
   ]
  },
  {
   "cell_type": "code",
   "execution_count": 2,
   "id": "36245450",
   "metadata": {},
   "outputs": [
    {
     "data": {
      "text/plain": [
       "False"
      ]
     },
     "execution_count": 2,
     "metadata": {},
     "output_type": "execute_result"
    }
   ],
   "source": [
    "power2(6)"
   ]
  },
  {
   "cell_type": "markdown",
   "id": "37916458",
   "metadata": {},
   "source": [
    "\n",
    "💡 **Question 2**\n",
    "\n",
    "Given a number n, find the sum of the first natural numbers.\n",
    "\n",
    "**Example 1:**\n",
    "\n",
    "Input: n = 3 \n",
    "\n",
    "Output: 6\n",
    "\n",
    "**Example 2:**\n",
    "\n",
    "Input  : 5 \n",
    "\n",
    "Output : "
   ]
  },
  {
   "cell_type": "code",
   "execution_count": 3,
   "id": "0938ccbf",
   "metadata": {},
   "outputs": [],
   "source": [
    "def natural(num):\n",
    "    \n",
    "    if num==1:\n",
    "        return 1\n",
    "    else:\n",
    "        return num+natural(num-1)"
   ]
  },
  {
   "cell_type": "code",
   "execution_count": 4,
   "id": "cbc9e605",
   "metadata": {},
   "outputs": [
    {
     "data": {
      "text/plain": [
       "15"
      ]
     },
     "execution_count": 4,
     "metadata": {},
     "output_type": "execute_result"
    }
   ],
   "source": [
    "natural(5)"
   ]
  },
  {
   "cell_type": "markdown",
   "id": "7b77821f",
   "metadata": {},
   "source": [
    "\n",
    "💡 **Question 3**\n",
    "\n",
    "****Given a positive integer, N. Find the factorial of N. \n",
    "\n",
    "**Example 1:**\n",
    "\n",
    "Input: N = 5 \n",
    "\n",
    "Output: 120\n",
    "\n",
    "**Example 2:**\n",
    "\n",
    "Input: N = 4\n",
    "\n",
    "Output: 24\n"
   ]
  },
  {
   "cell_type": "code",
   "execution_count": 5,
   "id": "144efe9c",
   "metadata": {},
   "outputs": [],
   "source": [
    "def factorial(num):\n",
    "    \n",
    "    if num==1:\n",
    "        return 1\n",
    "    else:\n",
    "        return num* factorial(num-1)"
   ]
  },
  {
   "cell_type": "code",
   "execution_count": 6,
   "id": "014e61d3",
   "metadata": {},
   "outputs": [
    {
     "data": {
      "text/plain": [
       "120"
      ]
     },
     "execution_count": 6,
     "metadata": {},
     "output_type": "execute_result"
    }
   ],
   "source": [
    "factorial (5)"
   ]
  },
  {
   "cell_type": "markdown",
   "id": "740fa5b8",
   "metadata": {},
   "source": [
    "\n",
    "💡 **Question 4**\n",
    "\n",
    "Given a number N and a power P, the task is to find the exponent of this number raised to the given power, i.e. N^P.\n",
    "\n",
    "**Example 1 :** \n",
    "\n",
    "Input: N = 5, P = 2\n",
    "\n",
    "Output: 25\n",
    "\n",
    "**Example 2 :**\n",
    "Input: N = 2, P = 5\n",
    "\n",
    "Output: 32\n",
    "\n"
   ]
  },
  {
   "cell_type": "code",
   "execution_count": 7,
   "id": "f1230d8c",
   "metadata": {},
   "outputs": [],
   "source": [
    "def expo(n,p):\n",
    "    \n",
    "    if p==1:\n",
    "        return n\n",
    "    else:\n",
    "        return n*expo(n,p-1)"
   ]
  },
  {
   "cell_type": "code",
   "execution_count": 8,
   "id": "b4140f1a",
   "metadata": {},
   "outputs": [
    {
     "data": {
      "text/plain": [
       "125"
      ]
     },
     "execution_count": 8,
     "metadata": {},
     "output_type": "execute_result"
    }
   ],
   "source": [
    "expo(5,3)"
   ]
  },
  {
   "cell_type": "markdown",
   "id": "4b7dd99f",
   "metadata": {},
   "source": [
    "\n",
    "💡 **Question 5**\n",
    "\n",
    "Given an array of integers **arr**, the task is to find maximum element of that array using recursion.\n",
    "\n",
    "**Example 1:**\n",
    "\n",
    "Input: arr = {1, 4, 3, -5, -4, 8, 6};\n",
    "Output: 8\n",
    "\n",
    "**Example 2:**\n",
    "\n",
    "Input: arr = {1, 4, 45, 6, 10, -8};\n",
    "Output: 45\n",
    "\n"
   ]
  },
  {
   "cell_type": "code",
   "execution_count": 9,
   "id": "dde8e5cb",
   "metadata": {},
   "outputs": [],
   "source": [
    "def findmax(arr,n):\n",
    "    \n",
    "    if n==1:\n",
    "        return arr[0]\n",
    "    maxelement=findmax(arr , n-1)\n",
    "    \n",
    "    if arr[n-1]>maxelement:\n",
    "        return arr[n-1]\n",
    "    else:\n",
    "        return maxelement"
   ]
  },
  {
   "cell_type": "code",
   "execution_count": 10,
   "id": "854dd8b2",
   "metadata": {},
   "outputs": [
    {
     "data": {
      "text/plain": [
       "8"
      ]
     },
     "execution_count": 10,
     "metadata": {},
     "output_type": "execute_result"
    }
   ],
   "source": [
    "findmax([1, 4, 3, -5, -4, 8, 6],7)"
   ]
  },
  {
   "cell_type": "markdown",
   "id": "1483fb0c",
   "metadata": {},
   "source": [
    "\n",
    "💡 **Question 6**\n",
    "\n",
    "Given first term (a), common difference (d) and a integer N of the Arithmetic Progression series, the task is to find Nth term of the series.\n",
    "\n",
    "**Example 1:**\n",
    "\n",
    "Input : a = 2 d = 1 N = 5\n",
    "Output : 6\n",
    "The 5th term of the series is : 6\n",
    "\n",
    "**Example 2:**\n",
    "\n",
    "Input : a = 5 d = 2 N = 10\n",
    "Output : 23\n",
    "The 10th term of the series is : 23\n",
    "\n"
   ]
  },
  {
   "cell_type": "code",
   "execution_count": 11,
   "id": "453e94c7",
   "metadata": {},
   "outputs": [],
   "source": [
    "def arithmetic (a,d,n):\n",
    "    if n==1:\n",
    "        return a\n",
    "    else:\n",
    "        return  arithmetic (a+d ,d,n-1)"
   ]
  },
  {
   "cell_type": "code",
   "execution_count": 12,
   "id": "2363bd61",
   "metadata": {},
   "outputs": [
    {
     "data": {
      "text/plain": [
       "23"
      ]
     },
     "execution_count": 12,
     "metadata": {},
     "output_type": "execute_result"
    }
   ],
   "source": [
    "arithmetic(5,2,10)"
   ]
  },
  {
   "cell_type": "markdown",
   "id": "153eb1ec",
   "metadata": {},
   "source": [
    "\n",
    "💡 **Question 7**\n",
    "\n",
    "Given a string S, the task is to write a program to print all permutations of a given string.\n",
    "\n",
    "**Example 1:**\n",
    "\n",
    "***Input:***\n",
    "\n",
    "*S = “ABC”*\n",
    "\n",
    "***Output:***\n",
    "\n",
    "*“ABC”, “ACB”, “BAC”, “BCA”, “CBA”, “CAB”*\n",
    "\n",
    "**Example 2:**\n",
    "\n",
    "***Input:***\n",
    "\n",
    "*S = “XY”*\n",
    "\n",
    "***Output:***\n",
    "\n",
    "*“XY”, “YX”*\n",
    "\n"
   ]
  },
  {
   "cell_type": "code",
   "execution_count": 13,
   "id": "d6bc31d8",
   "metadata": {},
   "outputs": [
    {
     "name": "stdout",
     "output_type": "stream",
     "text": [
      "['ABC', 'ACB', 'BAC', 'BCA', 'CAB', 'CBA']\n"
     ]
    }
   ],
   "source": [
    "def generatePermutations(S, current=\"\", permutations=[]):\n",
    "    # Base case: If the current permutation is of the same length as the original string,\n",
    "    # add it to the list of permutations\n",
    "    if len(current) == len(S):\n",
    "        permutations.append(current)\n",
    "        return\n",
    "\n",
    "    # Recursive case: Generate permutations by adding each character to the current permutation\n",
    "    for char in S:\n",
    "        # Skip characters that have already been used in the current permutation\n",
    "        if char not in current:\n",
    "            generatePermutations(S, current + char, permutations)\n",
    "\n",
    "    return permutations\n",
    "\n",
    "# Example usage\n",
    "S = \"ABC\"\n",
    "result = generatePermutations(S)\n",
    "print(result)  # Output: ['ABC', 'ACB', 'BAC', 'BCA', 'CAB', 'CBA']"
   ]
  },
  {
   "cell_type": "markdown",
   "id": "5e553075",
   "metadata": {},
   "source": [
    "\n",
    "💡 **Question 8**\n",
    "\n",
    "Given an array, find a product of all array elements.\n",
    "\n",
    "**Example 1:**\n",
    "\n",
    "Input  : arr[] = {1, 2, 3, 4, 5}\n",
    "Output : 120\n",
    "**Example 2:**\n",
    "\n",
    "Input  : arr[] = {1, 6, 3}\n",
    "Output : 18\n",
    "\n"
   ]
  },
  {
   "cell_type": "code",
   "execution_count": 14,
   "id": "cfcaaacc",
   "metadata": {},
   "outputs": [],
   "source": [
    "def findproduct(arr,n):\n",
    "    \n",
    "    if n==0:\n",
    "        return arr[0]\n",
    "    else:\n",
    "        return arr[n]*findproduct(arr , n-1)"
   ]
  },
  {
   "cell_type": "code",
   "execution_count": 15,
   "id": "62347459",
   "metadata": {},
   "outputs": [
    {
     "data": {
      "text/plain": [
       "18"
      ]
     },
     "execution_count": 15,
     "metadata": {},
     "output_type": "execute_result"
    }
   ],
   "source": [
    "findproduct([1, 6,3],2)"
   ]
  },
  {
   "cell_type": "code",
   "execution_count": null,
   "id": "c7645fc6",
   "metadata": {},
   "outputs": [],
   "source": []
  }
 ],
 "metadata": {
  "kernelspec": {
   "display_name": "Python 3 (ipykernel)",
   "language": "python",
   "name": "python3"
  },
  "language_info": {
   "codemirror_mode": {
    "name": "ipython",
    "version": 3
   },
   "file_extension": ".py",
   "mimetype": "text/x-python",
   "name": "python",
   "nbconvert_exporter": "python",
   "pygments_lexer": "ipython3",
   "version": "3.9.12"
  }
 },
 "nbformat": 4,
 "nbformat_minor": 5
}
